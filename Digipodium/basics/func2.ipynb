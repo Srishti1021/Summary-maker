{
 "cells": [
  {
   "attachments": {},
   "cell_type": "markdown",
   "metadata": {},
   "source": [
    "variable argument(n number of args)"
   ]
  },
  {
   "cell_type": "code",
   "execution_count": null,
   "metadata": {},
   "outputs": [],
   "source": [
    "# not a good function\n",
    "def add(x , y , z , a , b , c , d , e , f , g ):\n",
    "    return x+y+z+a+b+c+d+e+f+g"
   ]
  },
  {
   "cell_type": "code",
   "execution_count": 1,
   "metadata": {},
   "outputs": [],
   "source": [
    "def add_v2(*args):\n",
    "    total=0\n",
    "    for i in args:\n",
    "        total += i\n",
    "    return total"
   ]
  },
  {
   "cell_type": "code",
   "execution_count": 4,
   "metadata": {},
   "outputs": [
    {
     "name": "stdout",
     "output_type": "stream",
     "text": [
      "116\n",
      "12\n"
     ]
    }
   ],
   "source": [
    "print(add_v2(12,34,25,45))\n",
    "print(add_v2(12))"
   ]
  },
  {
   "cell_type": "code",
   "execution_count": 7,
   "metadata": {},
   "outputs": [],
   "source": [
    "def mul(*args):\n",
    "    total=1\n",
    "    for i in args:\n",
    "        total *= i\n",
    "    return total"
   ]
  },
  {
   "cell_type": "code",
   "execution_count": 9,
   "metadata": {},
   "outputs": [
    {
     "name": "stdout",
     "output_type": "stream",
     "text": [
      "64\n",
      "57600\n"
     ]
    }
   ],
   "source": [
    "print(mul(2,4,8))\n",
    "print(mul(10,1,2,3,8,5,3,4,2))"
   ]
  },
  {
   "cell_type": "code",
   "execution_count": 10,
   "metadata": {},
   "outputs": [],
   "source": [
    "def average(*args):\n",
    "    return sum(args)/len(args)"
   ]
  },
  {
   "cell_type": "code",
   "execution_count": 11,
   "metadata": {},
   "outputs": [
    {
     "data": {
      "text/plain": [
       "5.0"
      ]
     },
     "execution_count": 11,
     "metadata": {},
     "output_type": "execute_result"
    }
   ],
   "source": [
    "average(3,6,8,6,4,2,6)"
   ]
  },
  {
   "attachments": {},
   "cell_type": "markdown",
   "metadata": {},
   "source": [
    "**kwargs (variables keywords arguments) (n number of keyword args)"
   ]
  },
  {
   "cell_type": "code",
   "execution_count": 20,
   "metadata": {},
   "outputs": [],
   "source": [
    "def display_menu(**items):\n",
    "    if len(items) > 0:\n",
    "        for i in items:\n",
    "            print(f\"🌺{i:15} ${items[i]}\")\n",
    "            \n",
    "\n",
    "            "
   ]
  },
  {
   "cell_type": "code",
   "execution_count": 21,
   "metadata": {},
   "outputs": [
    {
     "name": "stdout",
     "output_type": "stream",
     "text": [
      "🌺idli            $40\n",
      "🌺dosa            $100\n",
      "🌺vada            $30\n",
      "🌺upma            $20\n"
     ]
    }
   ],
   "source": [
    "\n",
    "display_menu(idli=40, dosa=100, vada=30 , upma=20)\n"
   ]
  },
  {
   "cell_type": "code",
   "execution_count": 22,
   "metadata": {},
   "outputs": [
    {
     "name": "stdout",
     "output_type": "stream",
     "text": [
      "🌺pizza           $300\n",
      "🌺burger          $160\n",
      "🌺chocolate_pastry $60\n",
      "🌺cole_coffee     $110\n"
     ]
    }
   ],
   "source": [
    "display_menu(pizza=300, burger=160, chocolate_pastry=60 , cole_coffee=110)"
   ]
  },
  {
   "attachments": {},
   "cell_type": "markdown",
   "metadata": {},
   "source": [
    "### anonymous function\n",
    "lambda expression\n",
    "    -map\n",
    "    -filter\n",
    "\n",
    "....\n",
    "f(x) = x + 3 * 3\n",
    "g(x,y) = (x+y) * (x-y)\n",
    "....\n"
   ]
  },
  {
   "cell_type": "code",
   "execution_count": 23,
   "metadata": {},
   "outputs": [
    {
     "name": "stdout",
     "output_type": "stream",
     "text": [
      "297\n",
      "869\n",
      "708\n",
      "-308\n"
     ]
    }
   ],
   "source": [
    "xlist = [21,45,62,76]\n",
    "ylist = [12,34,56,78]\n",
    "\n",
    "def equi(x,y):\n",
    "    return (x+y) * (x-y)\n",
    "\n",
    "for i,j in zip(xlist,ylist):\n",
    "    print(equi(i,j))"
   ]
  },
  {
   "cell_type": "code",
   "execution_count": 28,
   "metadata": {},
   "outputs": [],
   "source": [
    "f= lambda x : x + 10 / x - 10 * x - 10"
   ]
  },
  {
   "cell_type": "code",
   "execution_count": 29,
   "metadata": {},
   "outputs": [
    {
     "data": {
      "text/plain": [
       "-99.0"
      ]
     },
     "execution_count": 29,
     "metadata": {},
     "output_type": "execute_result"
    }
   ],
   "source": [
    "f(10)"
   ]
  },
  {
   "cell_type": "code",
   "execution_count": 31,
   "metadata": {},
   "outputs": [
    {
     "data": {
      "text/plain": [
       "[297, 869, 708, -308]"
      ]
     },
     "execution_count": 31,
     "metadata": {},
     "output_type": "execute_result"
    }
   ],
   "source": [
    "list(map(lambda x,y :(x+y) * (x-y), xlist , ylist))"
   ]
  },
  {
   "cell_type": "code",
   "execution_count": 34,
   "metadata": {},
   "outputs": [],
   "source": [
    "# intials\n",
    "names = ['Srishti Trivedi','Abhishek Tiwari','Sneha Singh', 'Adarsh singh','Samriddhi Trivedi','Vandana Dwivedi','Sakshi Anand','Aparna Mishra']"
   ]
  },
  {
   "cell_type": "code",
   "execution_count": 32,
   "metadata": {},
   "outputs": [
    {
     "data": {
      "text/plain": [
       "['Srishti', 'Trivedi']"
      ]
     },
     "execution_count": 32,
     "metadata": {},
     "output_type": "execute_result"
    }
   ],
   "source": [
    "'Srishti Trivedi'.split()"
   ]
  },
  {
   "cell_type": "code",
   "execution_count": 33,
   "metadata": {},
   "outputs": [
    {
     "data": {
      "text/plain": [
       "'ST'"
      ]
     },
     "execution_count": 33,
     "metadata": {},
     "output_type": "execute_result"
    }
   ],
   "source": [
    "'Srishti Trivedi'.split()[0][0] + 'Srishti Trivedi'.split()[1][0]"
   ]
  },
  {
   "cell_type": "code",
   "execution_count": 35,
   "metadata": {},
   "outputs": [
    {
     "name": "stdout",
     "output_type": "stream",
     "text": [
      "Srishti Trivedi ST\n",
      "Abhishek Tiwari AT\n",
      "Sneha Singh SS\n",
      "Adarsh singh As\n",
      "Samriddhi Trivedi ST\n",
      "Vandana Dwivedi VD\n",
      "Sakshi Anand SA\n",
      "Aparna Mishra AM\n"
     ]
    }
   ],
   "source": [
    "def get_intials(name):\n",
    "    return name.split()[0][0] + name.split()[1][0]\n",
    "for name in names:\n",
    "    print(name, get_intials(name))"
   ]
  },
  {
   "cell_type": "code",
   "execution_count": 36,
   "metadata": {},
   "outputs": [
    {
     "data": {
      "text/plain": [
       "['ST', 'AT', 'SS', 'As', 'ST', 'VD', 'SA', 'AM']"
      ]
     },
     "execution_count": 36,
     "metadata": {},
     "output_type": "execute_result"
    }
   ],
   "source": [
    "list(map(lambda n: n.split()[0][0] + n.split()[1][0], names))"
   ]
  },
  {
   "cell_type": "code",
   "execution_count": null,
   "metadata": {},
   "outputs": [],
   "source": []
  }
 ],
 "metadata": {
  "kernelspec": {
   "display_name": "base",
   "language": "python",
   "name": "python3"
  },
  "language_info": {
   "codemirror_mode": {
    "name": "ipython",
    "version": 3
   },
   "file_extension": ".py",
   "mimetype": "text/x-python",
   "name": "python",
   "nbconvert_exporter": "python",
   "pygments_lexer": "ipython3",
   "version": "3.10.9"
  },
  "orig_nbformat": 4,
  "vscode": {
   "interpreter": {
    "hash": "446509b37074b932d2e93aaf1f3a3f1ac9372df13fcc57f6eb9bfd6c00f01b1a"
   }
  }
 },
 "nbformat": 4,
 "nbformat_minor": 2
}
