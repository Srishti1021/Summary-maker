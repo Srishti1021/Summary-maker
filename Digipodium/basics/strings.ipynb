{
 "cells": [
  {
   "cell_type": "code",
   "execution_count": 1,
   "metadata": {},
   "outputs": [
    {
     "data": {
      "text/plain": [
       "23"
      ]
     },
     "execution_count": 1,
     "metadata": {},
     "output_type": "execute_result"
    }
   ],
   "source": [
    "name = 'Vijay Deenanath Chauhan'\n",
    "len(name)"
   ]
  },
  {
   "cell_type": "code",
   "execution_count": 2,
   "metadata": {},
   "outputs": [
    {
     "name": "stdout",
     "output_type": "stream",
     "text": [
      " bahut sari lines likhni hai \n",
      "toh aap aise\n",
      "likh skte hai\n"
     ]
    }
   ],
   "source": [
    "msg=''' bahut sari lines likhni hai \n",
    "toh aap aise\n",
    "likh skte hai'''\n",
    "print(msg)"
   ]
  },
  {
   "cell_type": "code",
   "execution_count": 3,
   "metadata": {},
   "outputs": [
    {
     "name": "stdout",
     "output_type": "stream",
     "text": [
      "56\n"
     ]
    }
   ],
   "source": [
    "print(len(msg))"
   ]
  },
  {
   "attachments": {},
   "cell_type": "markdown",
   "metadata": {},
   "source": [
    "python indexing\n",
    "    - positive indexing\n",
    "    - negative indexing"
   ]
  },
  {
   "cell_type": "code",
   "execution_count": 4,
   "metadata": {},
   "outputs": [
    {
     "name": "stdout",
     "output_type": "stream",
     "text": [
      "b\n",
      "r\n",
      "i\n"
     ]
    }
   ],
   "source": [
    "msg='''bahut sari lines likhni hai \n",
    "toh aap aise\n",
    "likh skte hai'''\n",
    "print(msg[0])\n",
    "print(msg[8])\n",
    "print(msg[-1])"
   ]
  },
  {
   "attachments": {},
   "cell_type": "markdown",
   "metadata": {},
   "source": [
    "- slicing\n",
    "'x[ startidx: endidx : step] '\n",
    "\n",
    "examples \n",
    " - x[ 5 : 15]  -> 5th to 14th index data\n",
    " - x[ : 10]   -> begin from 0th index to 9th index data\n",
    " - x[ 5 : ]   -> 5th index to end of data"
   ]
  },
  {
   "cell_type": "code",
   "execution_count": 5,
   "metadata": {},
   "outputs": [
    {
     "data": {
      "text/plain": [
       "'Deenanath'"
      ]
     },
     "execution_count": 5,
     "metadata": {},
     "output_type": "execute_result"
    }
   ],
   "source": [
    "name[6 : 15]"
   ]
  },
  {
   "cell_type": "code",
   "execution_count": 6,
   "metadata": {},
   "outputs": [
    {
     "data": {
      "text/plain": [
       "'Deenanath'"
      ]
     },
     "execution_count": 6,
     "metadata": {},
     "output_type": "execute_result"
    }
   ],
   "source": [
    "name[6 : -8]"
   ]
  },
  {
   "cell_type": "code",
   "execution_count": 7,
   "metadata": {},
   "outputs": [
    {
     "data": {
      "text/plain": [
       "'nath'"
      ]
     },
     "execution_count": 7,
     "metadata": {},
     "output_type": "execute_result"
    }
   ],
   "source": [
    "name[11:-8]"
   ]
  },
  {
   "cell_type": "code",
   "execution_count": 8,
   "metadata": {},
   "outputs": [
    {
     "data": {
      "text/plain": [
       "'nath'"
      ]
     },
     "execution_count": 8,
     "metadata": {},
     "output_type": "execute_result"
    }
   ],
   "source": [
    "name[-12:-8]"
   ]
  },
  {
   "cell_type": "code",
   "execution_count": 9,
   "metadata": {},
   "outputs": [
    {
     "data": {
      "text/plain": [
       "'Vijay'"
      ]
     },
     "execution_count": 9,
     "metadata": {},
     "output_type": "execute_result"
    }
   ],
   "source": [
    "name[:5]"
   ]
  },
  {
   "cell_type": "code",
   "execution_count": 10,
   "metadata": {},
   "outputs": [
    {
     "data": {
      "text/plain": [
       "'Chauhan'"
      ]
     },
     "execution_count": 10,
     "metadata": {},
     "output_type": "execute_result"
    }
   ],
   "source": [
    "name[-7:]"
   ]
  },
  {
   "cell_type": "code",
   "execution_count": 11,
   "metadata": {},
   "outputs": [
    {
     "name": "stdout",
     "output_type": "stream",
     "text": [
      "Srishti\n",
      "Trivedi\n"
     ]
    }
   ],
   "source": [
    "my='Srishti Trivedi'\n",
    "fname = my[:7]\n",
    "print(fname)\n",
    "lname = my[-7:]\n",
    "print(lname)"
   ]
  },
  {
   "cell_type": "code",
   "execution_count": 12,
   "metadata": {},
   "outputs": [
    {
     "data": {
      "text/plain": [
       "'SihiTiei'"
      ]
     },
     "execution_count": 12,
     "metadata": {},
     "output_type": "execute_result"
    }
   ],
   "source": [
    "my[::2]"
   ]
  },
  {
   "cell_type": "code",
   "execution_count": 13,
   "metadata": {},
   "outputs": [
    {
     "data": {
      "text/plain": [
       "'rst rvd'"
      ]
     },
     "execution_count": 13,
     "metadata": {},
     "output_type": "execute_result"
    }
   ],
   "source": [
    "my[1::2]"
   ]
  },
  {
   "cell_type": "code",
   "execution_count": 14,
   "metadata": {},
   "outputs": [
    {
     "data": {
      "text/plain": [
       "'idevirT ithsirS'"
      ]
     },
     "execution_count": 14,
     "metadata": {},
     "output_type": "execute_result"
    }
   ],
   "source": [
    "my[::-1] #reverse string "
   ]
  },
  {
   "cell_type": "code",
   "execution_count": 15,
   "metadata": {},
   "outputs": [
    {
     "data": {
      "text/plain": [
       "'cyclop'"
      ]
     },
     "execution_count": 15,
     "metadata": {},
     "output_type": "execute_result"
    }
   ],
   "source": [
    "x = 'Excyclopedia'\n",
    "x[-5:]\n",
    "x[2:-4]"
   ]
  },
  {
   "cell_type": "code",
   "execution_count": 16,
   "metadata": {},
   "outputs": [
    {
     "data": {
      "text/plain": [
       "'cycloped'"
      ]
     },
     "execution_count": 16,
     "metadata": {},
     "output_type": "execute_result"
    }
   ],
   "source": [
    "x[2:-2]"
   ]
  },
  {
   "cell_type": "code",
   "execution_count": 17,
   "metadata": {},
   "outputs": [
    {
     "data": {
      "text/plain": [
       "'29031023.00'"
      ]
     },
     "execution_count": 17,
     "metadata": {},
     "output_type": "execute_result"
    }
   ],
   "source": [
    "x='$29031023.00 USD'\n",
    "x[1:-4]\n"
   ]
  },
  {
   "cell_type": "code",
   "execution_count": 18,
   "metadata": {},
   "outputs": [
    {
     "data": {
      "text/plain": [
       "'ivedi'"
      ]
     },
     "execution_count": 18,
     "metadata": {},
     "output_type": "execute_result"
    }
   ],
   "source": [
    "my[::-1][:5][::-1]"
   ]
  },
  {
   "attachments": {},
   "cell_type": "markdown",
   "metadata": {},
   "source": [
    "### string methods \n",
    "    -formatting functions\n",
    "       -upper()\n",
    "       -lower()\n",
    "    -validation method\n",
    "       -isalnum()\n",
    "       -isalpha()\n",
    "       -islower()\n",
    "       -isupper()\n",
    "    -search method\n",
    "       -find()\n",
    "       -index()\n",
    "    -utility method\n",
    "       -replace()\n",
    "       -split()\n",
    "       -join()\n",
    "       -strip()   "
   ]
  },
  {
   "cell_type": "code",
   "execution_count": 19,
   "metadata": {},
   "outputs": [
    {
     "data": {
      "text/plain": [
       "['hello', 'world']"
      ]
     },
     "execution_count": 19,
     "metadata": {},
     "output_type": "execute_result"
    }
   ],
   "source": [
    "'hello world'.split()"
   ]
  },
  {
   "cell_type": "code",
   "execution_count": 20,
   "metadata": {},
   "outputs": [],
   "source": [
    "\n",
    "msg = 'Journey Before Destination'"
   ]
  },
  {
   "cell_type": "code",
   "execution_count": 21,
   "metadata": {},
   "outputs": [
    {
     "data": {
      "text/plain": [
       "6"
      ]
     },
     "execution_count": 21,
     "metadata": {},
     "output_type": "execute_result"
    }
   ],
   "source": [
    "msg.index('y')"
   ]
  },
  {
   "cell_type": "code",
   "execution_count": 22,
   "metadata": {},
   "outputs": [
    {
     "name": "stdout",
     "output_type": "stream",
     "text": [
      "JOURNEY BEFORE DESTINATION\n",
      "journey before destination\n",
      "Journey Before Destination\n",
      "Journey before destination\n",
      "jOURNEY bEFORE dESTINATION\n",
      "journey before destination\n"
     ]
    }
   ],
   "source": [
    "print(msg.upper())\n",
    "print(msg.lower())\n",
    "print(msg.title())\n",
    "print(msg.capitalize())\n",
    "print(msg.swapcase())\n",
    "print(msg.casefold())"
   ]
  },
  {
   "cell_type": "code",
   "execution_count": 23,
   "metadata": {},
   "outputs": [
    {
     "data": {
      "text/plain": [
       "'Journey Before Destination'"
      ]
     },
     "execution_count": 23,
     "metadata": {},
     "output_type": "execute_result"
    }
   ],
   "source": [
    "msg"
   ]
  },
  {
   "cell_type": "code",
   "execution_count": 24,
   "metadata": {},
   "outputs": [
    {
     "data": {
      "text/plain": [
       "False"
      ]
     },
     "execution_count": 24,
     "metadata": {},
     "output_type": "execute_result"
    }
   ],
   "source": [
    "msg.isalpha()"
   ]
  },
  {
   "cell_type": "code",
   "execution_count": 25,
   "metadata": {},
   "outputs": [
    {
     "data": {
      "text/plain": [
       "True"
      ]
     },
     "execution_count": 25,
     "metadata": {},
     "output_type": "execute_result"
    }
   ],
   "source": [
    "\"pizza\".isalpha()"
   ]
  },
  {
   "cell_type": "code",
   "execution_count": 27,
   "metadata": {},
   "outputs": [
    {
     "name": "stdout",
     "output_type": "stream",
     "text": [
      "chal chutiye\n"
     ]
    }
   ],
   "source": [
    "fname = input('Enter your fname:')\n",
    "if fname.isalpha():\n",
    "    print('Good girl/boy')\n",
    "else:\n",
    "    print('chal chutiye')"
   ]
  },
  {
   "cell_type": "code",
   "execution_count": 29,
   "metadata": {},
   "outputs": [
    {
     "data": {
      "text/plain": [
       "False"
      ]
     },
     "execution_count": 29,
     "metadata": {},
     "output_type": "execute_result"
    }
   ],
   "source": [
    "'193k8'.isnumeric()\n"
   ]
  },
  {
   "cell_type": "code",
   "execution_count": 30,
   "metadata": {},
   "outputs": [
    {
     "data": {
      "text/plain": [
       "False"
      ]
     },
     "execution_count": 30,
     "metadata": {},
     "output_type": "execute_result"
    }
   ],
   "source": [
    "'193.8'.isnumeric()"
   ]
  },
  {
   "cell_type": "code",
   "execution_count": 31,
   "metadata": {},
   "outputs": [
    {
     "data": {
      "text/plain": [
       "True"
      ]
     },
     "execution_count": 31,
     "metadata": {},
     "output_type": "execute_result"
    }
   ],
   "source": [
    "'123456'.isnumeric()\n"
   ]
  },
  {
   "cell_type": "code",
   "execution_count": 33,
   "metadata": {},
   "outputs": [
    {
     "data": {
      "text/plain": [
       "False"
      ]
     },
     "execution_count": 33,
     "metadata": {},
     "output_type": "execute_result"
    }
   ],
   "source": [
    "'12 3456'.isalnum()"
   ]
  },
  {
   "cell_type": "code",
   "execution_count": 34,
   "metadata": {},
   "outputs": [
    {
     "data": {
      "text/plain": [
       "True"
      ]
     },
     "execution_count": 34,
     "metadata": {},
     "output_type": "execute_result"
    }
   ],
   "source": [
    "n = 'Ms. Vijaya'\n",
    "n.startswith('Ms')"
   ]
  },
  {
   "cell_type": "code",
   "execution_count": 42,
   "metadata": {},
   "outputs": [
    {
     "name": "stdout",
     "output_type": "stream",
     "text": [
      "WELCOME SIR \n",
      " Mr. Alex\n",
      "WELCOME MA'AM \n",
      " Ms. Verma\n",
      "WELCOME DOCTOR \n",
      " Dr. Tiwari\n",
      "WELCOME MA'AM \n",
      " Ms. Trivedi\n",
      "WELCOME DOCTOR \n",
      " Dr. Sharma\n",
      "WELCOME SIR \n",
      " Mr. Kapoor\n"
     ]
    }
   ],
   "source": [
    "guests = ['Mr. Alex','Ms. Verma','Dr. Tiwari','Ms. Trivedi','Dr. Sharma','Mr. Kapoor']\n",
    "for name in guests:\n",
    "    if name.startswith('Mr'):\n",
    "        print(f\"WELCOME SIR \\n {name}\")\n",
    "    elif name.startswith('Ms'):\n",
    "        print(f\"WELCOME MA'AM \\n {name}\")\n",
    "    elif name.startswith('Dr'):\n",
    "        print(f'WELCOME DOCTOR \\n {name}')\n",
    "\n"
   ]
  },
  {
   "cell_type": "code",
   "execution_count": 46,
   "metadata": {},
   "outputs": [
    {
     "name": "stdout",
     "output_type": "stream",
     "text": [
      "['abc.ipynb', 'abc.py', 'func.ipynb', 'func2.ipynb', 'loop.ipynb', 'nested.py', 'nested2.py', 'strings.ipynb', 't1.py', 't2.py']\n"
     ]
    }
   ],
   "source": [
    "import os\n",
    "\n",
    "files = os.listdir()\n",
    "print(files)"
   ]
  },
  {
   "cell_type": "code",
   "execution_count": 50,
   "metadata": {},
   "outputs": [
    {
     "name": "stdout",
     "output_type": "stream",
     "text": [
      "abc.ipynb is Jupyter Notebook \n",
      "------------------\n",
      "abc.py is Python Script\n",
      "------------------\n",
      "func.ipynb is Jupyter Notebook \n",
      "------------------\n",
      "func2.ipynb is Jupyter Notebook \n",
      "------------------\n",
      "loop.ipynb is Jupyter Notebook \n",
      "------------------\n",
      "nested.py is Python Script\n",
      "------------------\n",
      "nested2.py is Python Script\n",
      "------------------\n",
      "strings.ipynb is Jupyter Notebook \n",
      "------------------\n",
      "t1.py is Python Script\n",
      "------------------\n",
      "t2.py is Python Script\n",
      "------------------\n"
     ]
    }
   ],
   "source": [
    "for file in files:\n",
    "    if file.endswith('.py'):\n",
    "        print(f'{file} is Python Script')\n",
    "        print(\"------------------\")\n",
    "    elif file.endswith('.ipynb'):\n",
    "        print(f'{file} is Jupyter Notebook ')\n",
    "        print(\"------------------\")\n",
    "    elif file.endswith('.txt'):\n",
    "        print(f'{file} is Text file')\n",
    "        print(\"------------------\")\n",
    "    elif file.endswith('.md'):\n",
    "        print(f'{file} is Markdown file')\n",
    "        print(\"------------------\")\n",
    "    else :\n",
    "        print(f'{file} is Unknown file/dir')\n",
    "        print(\"------------------\")"
   ]
  },
  {
   "cell_type": "code",
   "execution_count": 51,
   "metadata": {},
   "outputs": [
    {
     "data": {
      "text/plain": [
       "'Journey Before Destination'"
      ]
     },
     "execution_count": 51,
     "metadata": {},
     "output_type": "execute_result"
    }
   ],
   "source": [
    "msg"
   ]
  },
  {
   "cell_type": "code",
   "execution_count": 53,
   "metadata": {},
   "outputs": [
    {
     "data": {
      "text/plain": [
       "10"
      ]
     },
     "execution_count": 53,
     "metadata": {},
     "output_type": "execute_result"
    }
   ],
   "source": [
    "msg.find('fore')"
   ]
  },
  {
   "cell_type": "code",
   "execution_count": 54,
   "metadata": {},
   "outputs": [
    {
     "data": {
      "text/plain": [
       "5"
      ]
     },
     "execution_count": 54,
     "metadata": {},
     "output_type": "execute_result"
    }
   ],
   "source": [
    "msg.find('e')"
   ]
  },
  {
   "cell_type": "code",
   "execution_count": 55,
   "metadata": {},
   "outputs": [
    {
     "data": {
      "text/plain": [
       "16"
      ]
     },
     "execution_count": 55,
     "metadata": {},
     "output_type": "execute_result"
    }
   ],
   "source": [
    "msg.rfind('e')"
   ]
  },
  {
   "cell_type": "code",
   "execution_count": 56,
   "metadata": {},
   "outputs": [],
   "source": [
    "data = 'Once upon a time, there was a person that lived. The end'"
   ]
  },
  {
   "cell_type": "code",
   "execution_count": 57,
   "metadata": {},
   "outputs": [
    {
     "data": {
      "text/plain": [
       "12"
      ]
     },
     "execution_count": 57,
     "metadata": {},
     "output_type": "execute_result"
    }
   ],
   "source": [
    "data.find('t')"
   ]
  },
  {
   "cell_type": "code",
   "execution_count": 58,
   "metadata": {},
   "outputs": [
    {
     "data": {
      "text/plain": [
       "18"
      ]
     },
     "execution_count": 58,
     "metadata": {},
     "output_type": "execute_result"
    }
   ],
   "source": [
    "data.find('t',13) #starts from 13th"
   ]
  },
  {
   "cell_type": "code",
   "execution_count": 60,
   "metadata": {},
   "outputs": [
    {
     "data": {
      "text/plain": [
       "-1"
      ]
     },
     "execution_count": 60,
     "metadata": {},
     "output_type": "execute_result"
    }
   ],
   "source": [
    "data.find('z') # -1 means not found\n"
   ]
  },
  {
   "cell_type": "code",
   "execution_count": 63,
   "metadata": {},
   "outputs": [
    {
     "data": {
      "text/plain": [
       "2"
      ]
     },
     "execution_count": 63,
     "metadata": {},
     "output_type": "execute_result"
    }
   ],
   "source": [
    "data.count('th')"
   ]
  },
  {
   "cell_type": "code",
   "execution_count": 65,
   "metadata": {},
   "outputs": [
    {
     "data": {
      "text/plain": [
       "4"
      ]
     },
     "execution_count": 65,
     "metadata": {},
     "output_type": "execute_result"
    }
   ],
   "source": [
    "data.count('a')"
   ]
  },
  {
   "cell_type": "code",
   "execution_count": 66,
   "metadata": {},
   "outputs": [],
   "source": [
    "data = 'As the day was coming to the end, our hero was ready to go to sleep. The end'"
   ]
  },
  {
   "cell_type": "code",
   "execution_count": 68,
   "metadata": {},
   "outputs": [
    {
     "name": "stdout",
     "output_type": "stream",
     "text": [
      "['As', 'the', 'day', 'was', 'coming', 'to', 'the', 'end,', 'our', 'hero', 'was', 'ready', 'to', 'go', 'to', 'sleep.', 'The', 'end']\n"
     ]
    }
   ],
   "source": [
    "words = data.split()\n",
    "print(words)"
   ]
  },
  {
   "cell_type": "code",
   "execution_count": 72,
   "metadata": {},
   "outputs": [
    {
     "name": "stdout",
     "output_type": "stream",
     "text": [
      "['As the day was coming to the end', ' our hero was ready to go to sleep. The end']\n"
     ]
    }
   ],
   "source": [
    "s= data.split(',')\n",
    "print(s)"
   ]
  },
  {
   "cell_type": "code",
   "execution_count": 73,
   "metadata": {},
   "outputs": [
    {
     "name": "stdout",
     "output_type": "stream",
     "text": [
      "['As the d', 'y w', 's coming to the end, our hero w', 's re', 'dy to go to sleep. The end']\n"
     ]
    }
   ],
   "source": [
    "s= data.split('a')\n",
    "print(s)"
   ]
  },
  {
   "cell_type": "code",
   "execution_count": 74,
   "metadata": {},
   "outputs": [
    {
     "data": {
      "text/plain": [
       "'abra  ka  dabra'"
      ]
     },
     "execution_count": 74,
     "metadata": {},
     "output_type": "execute_result"
    }
   ],
   "source": [
    "x = ['abra','ka','dabra']\n",
    "\"  \".join(x)"
   ]
  },
  {
   "cell_type": "code",
   "execution_count": 76,
   "metadata": {},
   "outputs": [
    {
     "data": {
      "text/plain": [
       "'abra=-=-=ka=-=-=dabra'"
      ]
     },
     "execution_count": 76,
     "metadata": {},
     "output_type": "execute_result"
    }
   ],
   "source": [
    "\n",
    "x = ['abra','ka','dabra']\n",
    "\"=-=-=\".join(x)\n"
   ]
  },
  {
   "cell_type": "code",
   "execution_count": 79,
   "metadata": {},
   "outputs": [
    {
     "data": {
      "text/plain": [
       "'abra*-*-*-*-*ka*-*-*-*-*dabra'"
      ]
     },
     "execution_count": 79,
     "metadata": {},
     "output_type": "execute_result"
    }
   ],
   "source": [
    "x = ('abra','ka','dabra')\n",
    "\"*-*-*-*-*\".join(x)\n"
   ]
  },
  {
   "cell_type": "code",
   "execution_count": 84,
   "metadata": {},
   "outputs": [
    {
     "data": {
      "text/plain": [
       "'As the day was coming to the start, our vilian was ready to go to sleep. To be continued---->>>>>>>>'"
      ]
     },
     "execution_count": 84,
     "metadata": {},
     "output_type": "execute_result"
    }
   ],
   "source": [
    "data.replace('hero','vilian').replace('end','start',1).replace('The end','To be continued---->>>>>>>>')"
   ]
  },
  {
   "cell_type": "code",
   "execution_count": 85,
   "metadata": {},
   "outputs": [
    {
     "name": "stdout",
     "output_type": "stream",
     "text": [
      "    srishtii\n",
      "12\n"
     ]
    }
   ],
   "source": [
    "name = input(\"enter your name:\")\n",
    "print(name)\n",
    "print(len(name))"
   ]
  },
  {
   "cell_type": "code",
   "execution_count": 90,
   "metadata": {},
   "outputs": [
    {
     "name": "stdout",
     "output_type": "stream",
     "text": [
      "    Srishti    Trivedi\n",
      "22\n",
      "Srishti    Trivedi\n",
      "18\n"
     ]
    }
   ],
   "source": [
    "name = input(\"enter your name:\")\n",
    "print(name)\n",
    "print(len(name))\n",
    "n = name.strip()\n",
    "print(n)\n",
    "print(len(n))\n"
   ]
  },
  {
   "attachments": {},
   "cell_type": "markdown",
   "metadata": {},
   "source": [
    "task\n",
    "\n",
    "\n",
    "#wap to remove all the vowels from a string\n",
    "\n",
    "#wap to remove all the punctuations from a string\n",
    "\n",
    "#count all the words in a string\n",
    "\n",
    "#count all the vowels in a string"
   ]
  },
  {
   "cell_type": "code",
   "execution_count": 113,
   "metadata": {},
   "outputs": [
    {
     "name": "stdout",
     "output_type": "stream",
     "text": [
      "Sr sht Tr ved \n"
     ]
    }
   ],
   "source": [
    "#wap to remove all the vowels from a string\n",
    "s = \"Srisht Trivedi\"\n",
    "for j in s:\n",
    "    if j=='i' or j=='a' or j=='e' or j=='o' or j=='u':\n",
    "        a=s.replace(j,' ')\n",
    "print(a)\n",
    "\n",
    "\n"
   ]
  },
  {
   "cell_type": "code",
   "execution_count": null,
   "metadata": {},
   "outputs": [],
   "source": [
    "#wap to remove all the punctuations from a string"
   ]
  },
  {
   "cell_type": "code",
   "execution_count": 1,
   "metadata": {},
   "outputs": [
    {
     "name": "stdout",
     "output_type": "stream",
     "text": [
      "4\n"
     ]
    }
   ],
   "source": [
    "#count all the words in a string\n",
    "s = 'Srishti is the best.'\n",
    "print(s.count(' ')+1)\n"
   ]
  },
  {
   "cell_type": "code",
   "execution_count": 114,
   "metadata": {},
   "outputs": [
    {
     "data": {
      "text/plain": [
       "4"
      ]
     },
     "execution_count": 114,
     "metadata": {},
     "output_type": "execute_result"
    }
   ],
   "source": [
    "#count all the words in a string\n",
    "s = 'Srishti is the best.'\n",
    "len(s.split())"
   ]
  },
  {
   "cell_type": "code",
   "execution_count": 96,
   "metadata": {},
   "outputs": [
    {
     "name": "stdout",
     "output_type": "stream",
     "text": [
      "5\n"
     ]
    }
   ],
   "source": [
    "#count all the vowels in a string\n",
    "s = 'Srishti Trivedi'\n",
    "v= s.count('i')+s.count('a')+s.count('e')+s.count('o')+s.count('u')+s.count('A')+s.count('E')+s.count('O')+s.count('I')+s.count('U')\n",
    "print(v)"
   ]
  },
  {
   "cell_type": "code",
   "execution_count": 2,
   "metadata": {},
   "outputs": [],
   "source": [
    "from string import punctuation"
   ]
  },
  {
   "cell_type": "code",
   "execution_count": 3,
   "metadata": {},
   "outputs": [],
   "source": [
    "def clean_string(content):\n",
    "    for char in punctuation:\n",
    "        print('Removing', char)\n",
    "        content = content.replace(char,' ')\n",
    "    return content"
   ]
  },
  {
   "cell_type": "code",
   "execution_count": 6,
   "metadata": {},
   "outputs": [
    {
     "name": "stdout",
     "output_type": "stream",
     "text": [
      "Removing !\n",
      "Removing \"\n",
      "Removing #\n",
      "Removing $\n",
      "Removing %\n",
      "Removing &\n",
      "Removing '\n",
      "Removing (\n",
      "Removing )\n",
      "Removing *\n",
      "Removing +\n",
      "Removing ,\n",
      "Removing -\n",
      "Removing .\n",
      "Removing /\n",
      "Removing :\n",
      "Removing ;\n",
      "Removing <\n",
      "Removing =\n",
      "Removing >\n",
      "Removing ?\n",
      "Removing @\n",
      "Removing [\n",
      "Removing \\\n",
      "Removing ]\n",
      "Removing ^\n",
      "Removing _\n",
      "Removing `\n",
      "Removing {\n",
      "Removing |\n",
      "Removing }\n",
      "Removing ~\n"
     ]
    },
    {
     "data": {
      "text/plain": [
       "'HE             llo           S r i s h t i'"
      ]
     },
     "execution_count": 6,
     "metadata": {},
     "output_type": "execute_result"
    }
   ],
   "source": [
    "a = 'HE?$@$%^&&%%^* llo #@%%#$^%$ S$r*i@s&h^t*i'\n",
    "clean_string(a)"
   ]
  },
  {
   "cell_type": "code",
   "execution_count": null,
   "metadata": {},
   "outputs": [],
   "source": []
  }
 ],
 "metadata": {
  "kernelspec": {
   "display_name": "base",
   "language": "python",
   "name": "python3"
  },
  "language_info": {
   "codemirror_mode": {
    "name": "ipython",
    "version": 3
   },
   "file_extension": ".py",
   "mimetype": "text/x-python",
   "name": "python",
   "nbconvert_exporter": "python",
   "pygments_lexer": "ipython3",
   "version": "3.10.9"
  },
  "orig_nbformat": 4,
  "vscode": {
   "interpreter": {
    "hash": "446509b37074b932d2e93aaf1f3a3f1ac9372df13fcc57f6eb9bfd6c00f01b1a"
   }
  }
 },
 "nbformat": 4,
 "nbformat_minor": 2
}
