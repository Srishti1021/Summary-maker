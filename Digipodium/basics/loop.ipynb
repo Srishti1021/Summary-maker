{
 "cells": [
  {
   "attachments": {},
   "cell_type": "markdown",
   "metadata": {},
   "source": [
    "-for loop \n",
    "    -step based loop\n",
    "    -iterable(anything that can be used in a loop)\n",
    "    -special iterables\n",
    "        -range()\n",
    "        -enumerate()\n",
    "        -zip()\n",
    "    -for-else\n",
    "     for item in iterable:\n",
    "           #do something with the item\n",
    "-while loop\n",
    "    -condition based loop \n",
    "    -while else"
   ]
  },
  {
   "cell_type": "code",
   "execution_count": 1,
   "metadata": {},
   "outputs": [
    {
     "name": "stdout",
     "output_type": "stream",
     "text": [
      "12 35 32 10 17 "
     ]
    }
   ],
   "source": [
    "x=[12,35,32,10,17]\n",
    "for i in x:\n",
    "    print(i,end=' ')"
   ]
  },
  {
   "cell_type": "code",
   "execution_count": 2,
   "metadata": {},
   "outputs": [
    {
     "name": "stdout",
     "output_type": "stream",
     "text": [
      "Have you seen tiger ?\n",
      "Have you seen elephant ?\n",
      "Have you seen leopard ?\n"
     ]
    }
   ],
   "source": [
    "animals = ['tiger','elephant','leopard']\n",
    "for animal in animals:\n",
    "    print(f'Have you seen {animal} ?')"
   ]
  },
  {
   "cell_type": "code",
   "execution_count": 3,
   "metadata": {},
   "outputs": [
    {
     "name": "stdout",
     "output_type": "stream",
     "text": [
      "RRR                 |3\n",
      "KGF                 |3\n",
      "Pushpa              |6\n",
      "Phir Hera Pheeri    |16\n",
      "Hera pheri          |10\n",
      "Shershaah           |9\n",
      "Welcome             |7\n",
      "Tiger               |5\n"
     ]
    }
   ],
   "source": [
    "movies = ['RRR','KGF','Pushpa','Phir Hera Pheeri','Hera pheri','Shershaah','Welcome','Tiger']\n",
    "for movie in movies:\n",
    "    print(f'{movie:20}|{len(movie)}')"
   ]
  },
  {
   "cell_type": "code",
   "execution_count": 1,
   "metadata": {},
   "outputs": [
    {
     "name": "stdout",
     "output_type": "stream",
     "text": [
      "0 1 2 3 4 5 6 7 8 9 "
     ]
    }
   ],
   "source": [
    "# 0 to 9 display\n",
    "for i in range(10):\n",
    "    print(i,end=' ')\n",
    "# end is special setting in print fumction\n"
   ]
  },
  {
   "cell_type": "code",
   "execution_count": 2,
   "metadata": {},
   "outputs": [
    {
     "name": "stdout",
     "output_type": "stream",
     "text": [
      "15 16 17 18 19 20 21 22 23 24 25 26 27 28 29 30 "
     ]
    }
   ],
   "source": [
    "# 15 to 30 display\n",
    "for i in range(15,31):\n",
    "    print(i, end=' ')"
   ]
  },
  {
   "cell_type": "code",
   "execution_count": 1,
   "metadata": {},
   "outputs": [
    {
     "name": "stdout",
     "output_type": "stream",
     "text": [
      "1 4 7 10 13 16 19 22 25 28 31 34 37 40 43 46 49 52 55 58 61 64 67 70 73 76 79 82 85 88 91 94 97 100 "
     ]
    }
   ],
   "source": [
    "# 1 - 100 with a increment of 3\n",
    "for i in range(1,101,3):\n",
    "    print(i, end=' ')"
   ]
  },
  {
   "cell_type": "code",
   "execution_count": 2,
   "metadata": {},
   "outputs": [
    {
     "name": "stdout",
     "output_type": "stream",
     "text": [
      "10 9 8 7 6 5 4 3 2 1 "
     ]
    }
   ],
   "source": [
    "# reverse loop\n",
    "for i in range(10,0,-1):\n",
    "    print(i,end=' ')\n",
    "    "
   ]
  },
  {
   "cell_type": "code",
   "execution_count": 4,
   "metadata": {},
   "outputs": [
    {
     "name": "stdout",
     "output_type": "stream",
     "text": [
      "(0, 'RRR')\n",
      "(1, 'KGF')\n",
      "(2, 'Pushpa')\n",
      "(3, 'Phir Hera Pheeri')\n",
      "(4, 'Hera pheri')\n",
      "(5, 'Shershaah')\n",
      "(6, 'Welcome')\n",
      "(7, 'Tiger')\n"
     ]
    }
   ],
   "source": [
    "#enumeration \n",
    "movies = ['RRR','KGF','Pushpa','Phir Hera Pheeri','Hera pheri','Shershaah','Welcome','Tiger']\n",
    "for movie in enumerate(movies):\n",
    "    print(movie)"
   ]
  },
  {
   "cell_type": "code",
   "execution_count": 5,
   "metadata": {},
   "outputs": [
    {
     "name": "stdout",
     "output_type": "stream",
     "text": [
      "0 RRR\n",
      "1 KGF\n",
      "2 Pushpa\n",
      "3 Phir Hera Pheeri\n",
      "4 Hera pheri\n",
      "5 Shershaah\n",
      "6 Welcome\n",
      "7 Tiger\n"
     ]
    }
   ],
   "source": [
    "for i,movie in enumerate(movies):\n",
    "    print(i,movie)"
   ]
  },
  {
   "cell_type": "code",
   "execution_count": 9,
   "metadata": {},
   "outputs": [
    {
     "name": "stdout",
     "output_type": "stream",
     "text": [
      "0 2.56 2.5 2\n",
      "1 67 1 5\n",
      "2 12 6 61\n",
      "3 56 5 46\n"
     ]
    }
   ],
   "source": [
    "x = [2.56,67,12,56]\n",
    "y = [2.5,1,6,5]\n",
    "z = [2,5,61,46,22]\n",
    "for i in range(len(x)):\n",
    "    print(i,x[i],y[i],z[i])"
   ]
  },
  {
   "cell_type": "code",
   "execution_count": 10,
   "metadata": {},
   "outputs": [
    {
     "name": "stdout",
     "output_type": "stream",
     "text": [
      "7.0600000000000005\n",
      "73\n",
      "79\n",
      "107\n"
     ]
    }
   ],
   "source": [
    "for i,j,k in zip(x,y,z):\n",
    "    print(i+j+k)"
   ]
  },
  {
   "cell_type": "code",
   "execution_count": 12,
   "metadata": {},
   "outputs": [
    {
     "name": "stdout",
     "output_type": "stream",
     "text": [
      "266.06\n"
     ]
    }
   ],
   "source": [
    "total=0\n",
    "for i , j , k in zip(x,y,z):\n",
    "    total= total + i + j + k\n",
    "print(total)    "
   ]
  },
  {
   "cell_type": "code",
   "execution_count": 13,
   "metadata": {},
   "outputs": [
    {
     "name": "stdout",
     "output_type": "stream",
     "text": [
      "2 1 3 4 5 6 7 8 9 6 4 2 1 4 7 5 2 9 8 8 "
     ]
    }
   ],
   "source": [
    "data = [2,1,3,4,5,6,7,8,9,0,6,4,2,1,4,7,5,2,9,8,0,8]\n",
    "for i in data:\n",
    "    if i == 0:\n",
    "        continue\n",
    "    print(i, end=' ')"
   ]
  },
  {
   "cell_type": "code",
   "execution_count": 14,
   "metadata": {},
   "outputs": [
    {
     "name": "stdout",
     "output_type": "stream",
     "text": [
      "2 1 3 4 5 6 "
     ]
    }
   ],
   "source": [
    "data = [2,1,3,4,5,6,None,7,8,9,0,6,4,2,1,4,7,5,2,9,8,0,8]\n",
    "for i in data:\n",
    "    if i == None:\n",
    "        break\n",
    "    print(i, end=' ')"
   ]
  },
  {
   "cell_type": "code",
   "execution_count": 15,
   "metadata": {},
   "outputs": [
    {
     "name": "stdout",
     "output_type": "stream",
     "text": [
      "2\n",
      "1\n",
      "3\n",
      "5\n",
      "6\n"
     ]
    }
   ],
   "source": [
    "for i in data:\n",
    "    if i==4: continue\n",
    "    if i==None: break\n",
    "    print(i)"
   ]
  },
  {
   "cell_type": "code",
   "execution_count": null,
   "metadata": {},
   "outputs": [],
   "source": []
  }
 ],
 "metadata": {
  "kernelspec": {
   "display_name": "base",
   "language": "python",
   "name": "python3"
  },
  "language_info": {
   "codemirror_mode": {
    "name": "ipython",
    "version": 3
   },
   "file_extension": ".py",
   "mimetype": "text/x-python",
   "name": "python",
   "nbconvert_exporter": "python",
   "pygments_lexer": "ipython3",
   "version": "3.10.9"
  },
  "orig_nbformat": 4,
  "vscode": {
   "interpreter": {
    "hash": "446509b37074b932d2e93aaf1f3a3f1ac9372df13fcc57f6eb9bfd6c00f01b1a"
   }
  }
 },
 "nbformat": 4,
 "nbformat_minor": 2
}
