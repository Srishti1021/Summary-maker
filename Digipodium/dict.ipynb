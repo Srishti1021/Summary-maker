{
 "cells": [
  {
   "attachments": {},
   "cell_type": "markdown",
   "metadata": {},
   "source": [
    "what we need to learn\n",
    "-create dictionary\n",
    "-methods\n"
   ]
  },
  {
   "cell_type": "code",
   "execution_count": 3,
   "metadata": {},
   "outputs": [],
   "source": [
    "series = { \n",
    "    'title':'Person of Interest',\n",
    "    'total seasons':5,\n",
    "    'genre':'Action/thriller',\n",
    "    'available on':'amazon prime/netflix/hotstar',\n",
    "    'summary':'A billioniare software genius hires a team of ex-militray operatives'\n",
    "    } "
   ]
  },
  {
   "cell_type": "code",
   "execution_count": 4,
   "metadata": {},
   "outputs": [],
   "source": [
    "series2={ }"
   ]
  },
  {
   "cell_type": "code",
   "execution_count": 7,
   "metadata": {},
   "outputs": [],
   "source": [
    "series2['title']='arrow'"
   ]
  },
  {
   "cell_type": "code",
   "execution_count": 8,
   "metadata": {},
   "outputs": [
    {
     "data": {
      "text/plain": [
       "'arrow'"
      ]
     },
     "execution_count": 8,
     "metadata": {},
     "output_type": "execute_result"
    }
   ],
   "source": [
    "series2['title']"
   ]
  },
  {
   "cell_type": "code",
   "execution_count": 9,
   "metadata": {},
   "outputs": [],
   "source": [
    "series2['seasons']=8\n",
    "series2['genre']='Action,adventure'\n",
    "series2['studio']='DC Comics'"
   ]
  },
  {
   "cell_type": "code",
   "execution_count": 10,
   "metadata": {},
   "outputs": [
    {
     "data": {
      "text/plain": [
       "{'title': 'arrow',\n",
       " 'seasons': 8,\n",
       " 'genre': 'Action,adventure',\n",
       " 'studio': 'DC Comics'}"
      ]
     },
     "execution_count": 10,
     "metadata": {},
     "output_type": "execute_result"
    }
   ],
   "source": [
    "series2"
   ]
  },
  {
   "cell_type": "code",
   "execution_count": 15,
   "metadata": {},
   "outputs": [],
   "source": [
    "books = {\n",
    "    'book 1' : {\n",
    "     'title' : 'the alloy of Law',\n",
    "     'author':'brandon',\n",
    "     'summary':'Western meets steampunk in this new Mistborn series'\n",
    "    },\n",
    "    'book2' : {\n",
    "    'title' : 'The Bands of Mourning',\n",
    "    'author' : 'Brandson Sanderson',\n",
    "    'summary' : 'The third book in the Mistborn series era 2'\n",
    "    },\n",
    "    'book 3' : {\n",
    "    'title' : 'The lost metal',\n",
    "    'author' : 'Brandson Sanderson',\n",
    "    'summary' : 'The fourth book in the Mistborn series era 2'\n",
    "    \n",
    "    }\n",
    "    }\n"
   ]
  },
  {
   "cell_type": "code",
   "execution_count": 11,
   "metadata": {},
   "outputs": [
    {
     "name": "stdout",
     "output_type": "stream",
     "text": [
      "title Person of Interest\n",
      "total seasons 5\n",
      "genre Action/thriller\n",
      "available on amazon prime/netflix/hotstar\n",
      "summary A billioniare software genius hires a team of ex-militray operatives\n"
     ]
    }
   ],
   "source": [
    "for i in series:\n",
    "    print(i,series[i])"
   ]
  },
  {
   "cell_type": "code",
   "execution_count": 12,
   "metadata": {},
   "outputs": [
    {
     "name": "stdout",
     "output_type": "stream",
     "text": [
      "title Person of Interest\n",
      "total seasons 5\n",
      "genre Action/thriller\n",
      "available on amazon prime/netflix/hotstar\n",
      "summary A billioniare software genius hires a team of ex-militray operatives\n"
     ]
    }
   ],
   "source": [
    "for k,v in series.items():\n",
    "    print(k,v)"
   ]
  },
  {
   "cell_type": "code",
   "execution_count": 19,
   "metadata": {},
   "outputs": [
    {
     "data": {
      "text/plain": [
       "{'title': 'the alloy of Law',\n",
       " 'author': 'brandon',\n",
       " 'summary': 'Western meets steampunk in this new Mistborn series'}"
      ]
     },
     "execution_count": 19,
     "metadata": {},
     "output_type": "execute_result"
    }
   ],
   "source": [
    "books['book 1']"
   ]
  },
  {
   "cell_type": "code",
   "execution_count": 20,
   "metadata": {},
   "outputs": [
    {
     "data": {
      "text/plain": [
       "'The lost metal'"
      ]
     },
     "execution_count": 20,
     "metadata": {},
     "output_type": "execute_result"
    }
   ],
   "source": [
    "books['book 3']['title']"
   ]
  },
  {
   "cell_type": "code",
   "execution_count": 17,
   "metadata": {},
   "outputs": [
    {
     "name": "stdout",
     "output_type": "stream",
     "text": [
      "book 1 title the alloy of Law\n",
      "book 1 author brandon\n",
      "book 1 summary Western meets steampunk in this new Mistborn series\n",
      "book2 title The Bands of Mourning\n",
      "book2 author Brandson Sanderson\n",
      "book2 summary The third book in the Mistborn series era 2\n",
      "book 3 title The lost metal\n",
      "book 3 author Brandson Sanderson\n",
      "book 3 summary The fourth book in the Mistborn series era 2\n"
     ]
    }
   ],
   "source": [
    "for k,v in books.items():\n",
    "    for k1,v1 in v.items():\n",
    "        print(k , k1, v1)"
   ]
  },
  {
   "cell_type": "code",
   "execution_count": 21,
   "metadata": {},
   "outputs": [
    {
     "data": {
      "text/plain": [
       "dict_keys(['title', 'total seasons', 'genre', 'available on', 'summary'])"
      ]
     },
     "execution_count": 21,
     "metadata": {},
     "output_type": "execute_result"
    }
   ],
   "source": [
    "series.keys()"
   ]
  },
  {
   "cell_type": "code",
   "execution_count": 22,
   "metadata": {},
   "outputs": [
    {
     "data": {
      "text/plain": [
       "['title', 'total seasons', 'genre', 'available on', 'summary']"
      ]
     },
     "execution_count": 22,
     "metadata": {},
     "output_type": "execute_result"
    }
   ],
   "source": [
    "list(series.keys())"
   ]
  },
  {
   "cell_type": "code",
   "execution_count": 23,
   "metadata": {},
   "outputs": [
    {
     "data": {
      "text/plain": [
       "['Person of Interest',\n",
       " 5,\n",
       " 'Action/thriller',\n",
       " 'amazon prime/netflix/hotstar',\n",
       " 'A billioniare software genius hires a team of ex-militray operatives']"
      ]
     },
     "execution_count": 23,
     "metadata": {},
     "output_type": "execute_result"
    }
   ],
   "source": [
    "list(series.values())"
   ]
  },
  {
   "cell_type": "code",
   "execution_count": 24,
   "metadata": {},
   "outputs": [
    {
     "data": {
      "text/plain": [
       "dict_items([('title', 'arrow'), ('seasons', 8), ('genre', 'Action,adventure'), ('studio', 'DC Comics')])"
      ]
     },
     "execution_count": 24,
     "metadata": {},
     "output_type": "execute_result"
    }
   ],
   "source": [
    "series2.items()"
   ]
  },
  {
   "cell_type": "code",
   "execution_count": 25,
   "metadata": {},
   "outputs": [
    {
     "data": {
      "text/plain": [
       "{'book 1': {'title': 'the alloy of Law',\n",
       "  'author': 'brandon',\n",
       "  'summary': 'Western meets steampunk in this new Mistborn series'},\n",
       " 'book2': {'title': 'The Bands of Mourning',\n",
       "  'author': 'Brandson Sanderson',\n",
       "  'summary': 'The third book in the Mistborn series era 2'},\n",
       " 'book 3': {'title': 'The lost metal',\n",
       "  'author': 'Brandson Sanderson',\n",
       "  'summary': 'The fourth book in the Mistborn series era 2'}}"
      ]
     },
     "execution_count": 25,
     "metadata": {},
     "output_type": "execute_result"
    }
   ],
   "source": [
    "books"
   ]
  },
  {
   "cell_type": "code",
   "execution_count": 27,
   "metadata": {},
   "outputs": [
    {
     "data": {
      "text/plain": [
       "{'title': 'the alloy of Law',\n",
       " 'author': 'brandon',\n",
       " 'summary': 'Western meets steampunk in this new Mistborn series'}"
      ]
     },
     "execution_count": 27,
     "metadata": {},
     "output_type": "execute_result"
    }
   ],
   "source": [
    "books.pop('book 1')"
   ]
  },
  {
   "cell_type": "code",
   "execution_count": 28,
   "metadata": {},
   "outputs": [
    {
     "data": {
      "text/plain": [
       "{'book2': {'title': 'The Bands of Mourning',\n",
       "  'author': 'Brandson Sanderson',\n",
       "  'summary': 'The third book in the Mistborn series era 2'},\n",
       " 'book 3': {'title': 'The lost metal',\n",
       "  'author': 'Brandson Sanderson',\n",
       "  'summary': 'The fourth book in the Mistborn series era 2'}}"
      ]
     },
     "execution_count": 28,
     "metadata": {},
     "output_type": "execute_result"
    }
   ],
   "source": [
    "books"
   ]
  },
  {
   "cell_type": "code",
   "execution_count": 29,
   "metadata": {},
   "outputs": [],
   "source": [
    "books.update({'series' : series})"
   ]
  },
  {
   "cell_type": "code",
   "execution_count": 30,
   "metadata": {},
   "outputs": [
    {
     "data": {
      "text/plain": [
       "{'book2': {'title': 'The Bands of Mourning',\n",
       "  'author': 'Brandson Sanderson',\n",
       "  'summary': 'The third book in the Mistborn series era 2'},\n",
       " 'book 3': {'title': 'The lost metal',\n",
       "  'author': 'Brandson Sanderson',\n",
       "  'summary': 'The fourth book in the Mistborn series era 2'},\n",
       " 'series': {'title': 'Person of Interest',\n",
       "  'total seasons': 5,\n",
       "  'genre': 'Action/thriller',\n",
       "  'available on': 'amazon prime/netflix/hotstar',\n",
       "  'summary': 'A billioniare software genius hires a team of ex-militray operatives'}}"
      ]
     },
     "execution_count": 30,
     "metadata": {},
     "output_type": "execute_result"
    }
   ],
   "source": [
    "books"
   ]
  },
  {
   "cell_type": "code",
   "execution_count": 31,
   "metadata": {},
   "outputs": [
    {
     "name": "stdout",
     "output_type": "stream",
     "text": [
      "{'name': 'srishti', 'phone': '6392597286'}\n"
     ]
    }
   ],
   "source": [
    "contacts = {}\n",
    "nm = input('enter name:')\n",
    "ph = input('Enter phone number:')\n",
    "contacts['name'] = nm\n",
    "contacts['phone'] = ph\n",
    "\n",
    "print(contacts)"
   ]
  },
  {
   "cell_type": "code",
   "execution_count": null,
   "metadata": {},
   "outputs": [],
   "source": []
  }
 ],
 "metadata": {
  "kernelspec": {
   "display_name": "base",
   "language": "python",
   "name": "python3"
  },
  "language_info": {
   "codemirror_mode": {
    "name": "ipython",
    "version": 3
   },
   "file_extension": ".py",
   "mimetype": "text/x-python",
   "name": "python",
   "nbconvert_exporter": "python",
   "pygments_lexer": "ipython3",
   "version": "3.10.9"
  },
  "orig_nbformat": 4,
  "vscode": {
   "interpreter": {
    "hash": "446509b37074b932d2e93aaf1f3a3f1ac9372df13fcc57f6eb9bfd6c00f01b1a"
   }
  }
 },
 "nbformat": 4,
 "nbformat_minor": 2
}
